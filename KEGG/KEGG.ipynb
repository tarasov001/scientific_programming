{
  "nbformat": 4,
  "nbformat_minor": 0,
  "metadata": {
    "colab": {
      "provenance": [],
      "authorship_tag": "ABX9TyM/Jwa8x/uv6te4+OiedVVy",
      "include_colab_link": true
    },
    "kernelspec": {
      "name": "python3",
      "display_name": "Python 3"
    },
    "language_info": {
      "name": "python"
    }
  },
  "cells": [
    {
      "cell_type": "markdown",
      "metadata": {
        "id": "view-in-github",
        "colab_type": "text"
      },
      "source": [
        "<a href=\"https://colab.research.google.com/github/tarasov001/scientific_programming/blob/main/KEGG/KEGG.ipynb\" target=\"_parent\"><img src=\"https://colab.research.google.com/assets/colab-badge.svg\" alt=\"Open In Colab\"/></a>"
      ]
    },
    {
      "cell_type": "code",
      "execution_count": null,
      "metadata": {
        "id": "mGFjmHwIcPPY"
      },
      "outputs": [],
      "source": [
        "with open(\"kegg_hsa_gmt.txt\") as file:\n",
        "    table_text = file.read()"
      ]
    },
    {
      "cell_type": "code",
      "source": [
        "def parse_gene_paths(table_text):\n",
        "    parsed = dict()\n",
        "    tmp = [x.split('\\t') for x in table_text.split('\\n')]\n",
        "    for row in tmp:\n",
        "        parsed[row[0]] = [x for x in row[2:] if x != '']\n",
        "        \n",
        "    return parsed\n",
        "\n",
        "def count_paths_for_gene(\n",
        "    gene_in_path, \n",
        "    gene, \n",
        "    path_part\n",
        "):\n",
        "\n",
        "    counter = 0\n",
        "\n",
        "    for path_name in gene_in_path:\n",
        "        if path_part in path_name.split('_'):\n",
        "            counter += gene_in_path[path_name].count(gene)\n",
        "\n",
        "    return counter\n",
        "\n",
        "\n",
        "gene_in_path = parse_gene_paths(table_text)\n",
        "path_count = count_paths_for_gene(\n",
        "    gene_in_path, \n",
        "    'SDS', \n",
        "    'metabolism'\n",
        ")\n",
        "path_count"
      ],
      "metadata": {
        "colab": {
          "base_uri": "https://localhost:8080/"
        },
        "id": "b2K8-K8Hcycl",
        "outputId": "1c124d13-e3a0-4839-ee1c-c9589fee2ad3"
      },
      "execution_count": null,
      "outputs": [
        {
          "output_type": "execute_result",
          "data": {
            "text/plain": [
              "3"
            ]
          },
          "metadata": {},
          "execution_count": 3
        }
      ]
    }
  ]
}