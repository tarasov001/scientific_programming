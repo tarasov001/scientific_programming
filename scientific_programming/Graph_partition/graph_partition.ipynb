{
  "nbformat": 4,
  "nbformat_minor": 0,
  "metadata": {
    "colab": {
      "provenance": [],
      "authorship_tag": "ABX9TyMFXHGhkL3gHXoDObifPEds",
      "include_colab_link": true
    },
    "kernelspec": {
      "name": "python3",
      "display_name": "Python 3"
    },
    "language_info": {
      "name": "python"
    }
  },
  "cells": [
    {
      "cell_type": "markdown",
      "metadata": {
        "id": "view-in-github",
        "colab_type": "text"
      },
      "source": [
        "<a href=\"https://colab.research.google.com/github/tarasov001/scientific_programming/blob/main/scientific_programming/Graph_partition/graph_partition.ipynb\" target=\"_parent\"><img src=\"https://colab.research.google.com/assets/colab-badge.svg\" alt=\"Open In Colab\"/></a>"
      ]
    },
    {
      "cell_type": "code",
      "execution_count": null,
      "metadata": {
        "colab": {
          "base_uri": "https://localhost:8080/"
        },
        "id": "axmI0J8Kzoc8",
        "outputId": "4b5402be-f698-48f5-d2f9-29fb154f43ce"
      },
      "outputs": [
        {
          "output_type": "execute_result",
          "data": {
            "text/plain": [
              "[8, 6, 9, 7, 3, 5, 11, 2, 15, 4]"
            ]
          },
          "metadata": {},
          "execution_count": 1
        }
      ],
      "source": [
        "import random"
      ]
    },
    {
      "cell_type": "code",
      "source": [
        "vertices = [x for x in range(10)]\n",
        "vertices"
      ],
      "metadata": {
        "colab": {
          "base_uri": "https://localhost:8080/"
        },
        "id": "lDN1Yl2W0CjD",
        "outputId": "55760658-9591-4177-c529-220965dcff89"
      },
      "execution_count": null,
      "outputs": [
        {
          "output_type": "execute_result",
          "data": {
            "text/plain": [
              "[0, 1, 2, 3, 4, 5, 6, 7, 8, 9]"
            ]
          },
          "metadata": {},
          "execution_count": 16
        }
      ]
    },
    {
      "cell_type": "code",
      "source": [
        "class graph_partition:\n",
        "    def __init__(self, number_process, amount_processes):\n",
        "        self.num_proc = number_process\n",
        "        self.amount_proc = amount_processes\n",
        "\n",
        "    def gen_sizes(self, n):\n",
        "        size = sum([x for x in range(1, n)])\n",
        "        tmp = [size // self.amount_proc for x in range(self.amount_proc)]\n",
        "        if size % self.amount_proc != 0:\n",
        "            for i in range(size % self.amount_proc):\n",
        "                tmp[i] += 1\n",
        "\n",
        "        return tmp\n",
        "\n",
        "    def gen_start_pair(self):\n",
        "        number = sum(self.sizes[:self.num_proc]) - 1\n",
        "        n = self.amount_vertices - 2  \n",
        "\n",
        "        for i in range(self.amount_vertices-1):\n",
        "            if number > n:\n",
        "                n += self.amount_vertices - 2 - i\n",
        "            else:\n",
        "                self.x = i\n",
        "                self.y = self.amount_vertices - n + number - 1\n",
        "                break\n",
        "\n",
        "    def fit(self, amount_vertices):\n",
        "        self.amount_vertices = amount_vertices\n",
        "        self.sizes = self.gen_sizes(amount_vertices)\n",
        "        self.gen_start_pair()\n",
        "        self.iterator = 0\n",
        "        return self\n",
        "\n",
        "    def __iter__(self):\n",
        "        return self\n",
        "\n",
        "    def __len__(self):\n",
        "        return self.sizes[self.num_proc]\n",
        "\n",
        "    def __next__(self):\n",
        "        if self.iterator == self.sizes[self.num_proc]:\n",
        "            raise StopIteration  \n",
        "        else:\n",
        "            iterator = self.y + 1\n",
        "            if iterator >= self.amount_vertices:\n",
        "                self.y = self.x + 2\n",
        "                self.x += 1 \n",
        "            else:\n",
        "                self.y = iterator\n",
        "            self.iterator += 1\n",
        "            return (self.x, self.y)\n",
        "\n",
        "g = graph_partition(2, 4)\n",
        "g.fit(6)\n",
        "\n",
        "for i in (g):\n",
        "    print(i)"
      ],
      "metadata": {
        "colab": {
          "base_uri": "https://localhost:8080/"
        },
        "id": "1KSkG4Yp-ufy",
        "outputId": "53078ef9-2aa2-414f-ce18-6cb420f9ff6e"
      },
      "execution_count": null,
      "outputs": [
        {
          "output_type": "stream",
          "name": "stdout",
          "text": [
            "(1, 5)\n",
            "(2, 3)\n",
            "(2, 4)\n",
            "(2, 5)\n"
          ]
        }
      ]
    }
  ]
}