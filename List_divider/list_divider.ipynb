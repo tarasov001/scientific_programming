{
  "nbformat": 4,
  "nbformat_minor": 0,
  "metadata": {
    "colab": {
      "provenance": [],
      "authorship_tag": "ABX9TyM862sPJczwQjKPJNrULH9j",
      "include_colab_link": true
    },
    "kernelspec": {
      "name": "python3",
      "display_name": "Python 3"
    },
    "language_info": {
      "name": "python"
    }
  },
  "cells": [
    {
      "cell_type": "markdown",
      "metadata": {
        "id": "view-in-github",
        "colab_type": "text"
      },
      "source": [
        "<a href=\"https://colab.research.google.com/github/tarasov001/scientific_programming/blob/main/List_divider/list_divider.ipynb\" target=\"_parent\"><img src=\"https://colab.research.google.com/assets/colab-badge.svg\" alt=\"Open In Colab\"/></a>"
      ]
    },
    {
      "cell_type": "code",
      "source": [
        "import numpy as np\n",
        "l = np.random.randint(0, 10, 10).tolist()\n",
        "# l = 'aefaefae÷ff'\n",
        "# l = []\n",
        "\n",
        "class list_divider(list):\n",
        "    def __init__(self, list_):\n",
        "        self.list_ = list_\n",
        "\n",
        "    def gen_sizes(self, n):\n",
        "        if len(self.list_) % n == 0:\n",
        "            return [len(self.list_) // n for x in range(n)]  \n",
        "        elif len(self.list_) < n:\n",
        "            tmp = [0 for x in range(n)]\n",
        "            for i in range(len(self.list_)):\n",
        "                tmp[i] += 1\n",
        "            return tmp\n",
        "        else:\n",
        "            tmp = [len(self.list_) // n for x in range(n)]\n",
        "            for i in range(0,n):\n",
        "                tmp[i] += 1\n",
        "                if sum(tmp) == len(self.list_):\n",
        "                    break\n",
        "            return tmp\n",
        "\n",
        "    def __truediv__(self, n):\n",
        "        if type(n) is not int or type(self.list_) is not list:\n",
        "            raise TypeError\n",
        "        elif n < 1:\n",
        "            raise ValueError\n",
        "        elif len(self.list_) == 0:\n",
        "            return [[] for x in range(n)]\n",
        "        else:\n",
        "            n = int(n)\n",
        "\n",
        "        sizes = self.gen_sizes(n)\n",
        "        res = []\n",
        "        counter = 0\n",
        "\n",
        "        print(sizes)\n",
        "\n",
        "        for index, s in enumerate(sizes):\n",
        "            res.append([])\n",
        "            for i in range(s):\n",
        "                res[index].append(self.list_[counter + i])\n",
        "            counter += s\n",
        "        return res\n",
        "\n",
        "\n",
        "a = list_divider(l)\n",
        "print(a / 4)\n",
        "# n = 3\n",
        "# test(a, 2)"
      ],
      "metadata": {
        "colab": {
          "base_uri": "https://localhost:8080/"
        },
        "id": "P-k0_atCJ3IN",
        "outputId": "3c052d64-5f0d-4a4f-efe1-96ecc693bde5"
      },
      "execution_count": null,
      "outputs": [
        {
          "output_type": "stream",
          "name": "stdout",
          "text": [
            "[3, 3, 2, 2]\n",
            "[[9, 5, 9], [8, 8, 7], [8, 9], [6, 1]]\n"
          ]
        }
      ]
    }
  ]
}